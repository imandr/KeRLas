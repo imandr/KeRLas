{
 "cells": [
  {
   "cell_type": "code",
   "execution_count": 1,
   "metadata": {
    "collapsed": false
   },
   "outputs": [
    {
     "name": "stderr",
     "output_type": "stream",
     "text": [
      "Using TensorFlow backend.\n"
     ]
    },
    {
     "name": "stdout",
     "output_type": "stream",
     "text": [
      "Couldn't import dot_parser, loading of dot files will not be possible.\n"
     ]
    }
   ],
   "source": [
    "import numpy as np\n",
    "from game import RandomGenerator, GameGenerator, Game #, GameGenerator1\n",
    "from model import qmodel, DirectDiffModel, LateralDiffModel\n",
    "\n",
    "from mpl_toolkits.mplot3d import Axes3D\n",
    "import matplotlib.pyplot as plt\n",
    "%matplotlib inline\n"
   ]
  },
  {
   "cell_type": "code",
   "execution_count": 2,
   "metadata": {
    "collapsed": false
   },
   "outputs": [
    {
     "ename": "TypeError",
     "evalue": "GameGenerator object is not an iterator",
     "output_type": "error",
     "traceback": [
      "\u001b[0;31m---------------------------------------------------------------------------\u001b[0m",
      "\u001b[0;31mTypeError\u001b[0m                                 Traceback (most recent call last)",
      "\u001b[0;32m<ipython-input-2-ff61c620eea1>\u001b[0m in \u001b[0;36m<module>\u001b[0;34m()\u001b[0m\n\u001b[1;32m      4\u001b[0m \u001b[0mg\u001b[0m\u001b[0;34m=\u001b[0m\u001b[0mGameGenerator\u001b[0m\u001b[0;34m(\u001b[0m\u001b[0mgame\u001b[0m\u001b[0;34m,\u001b[0m \u001b[0mqm\u001b[0m\u001b[0;34m,\u001b[0m \u001b[0;36m20\u001b[0m\u001b[0;34m,\u001b[0m \u001b[0;36m1.0\u001b[0m\u001b[0;34m)\u001b[0m\u001b[0;34m\u001b[0m\u001b[0m\n\u001b[1;32m      5\u001b[0m \u001b[0;34m\u001b[0m\u001b[0m\n\u001b[0;32m----> 6\u001b[0;31m \u001b[0mx\u001b[0m\u001b[0;34m,\u001b[0m\u001b[0my\u001b[0m \u001b[0;34m=\u001b[0m \u001b[0mnext\u001b[0m\u001b[0;34m(\u001b[0m\u001b[0mg\u001b[0m\u001b[0;34m)\u001b[0m\u001b[0;34m\u001b[0m\u001b[0m\n\u001b[0m\u001b[1;32m      7\u001b[0m \u001b[0;34m\u001b[0m\u001b[0m\n\u001b[1;32m      8\u001b[0m \u001b[0ms0\u001b[0m\u001b[0;34m,\u001b[0m\u001b[0m_\u001b[0m\u001b[0;34m,\u001b[0m\u001b[0m_\u001b[0m\u001b[0;34m,\u001b[0m\u001b[0m_\u001b[0m \u001b[0;34m=\u001b[0m \u001b[0mx\u001b[0m\u001b[0;34m\u001b[0m\u001b[0m\n",
      "\u001b[0;31mTypeError\u001b[0m: GameGenerator object is not an iterator"
     ]
    }
   ],
   "source": [
    "nactions = 2\n",
    "game = Game()\n",
    "qm=qmodel(2, game.NActions)\n",
    "g=GameGenerator(game, qm, 20, 1.0)\n",
    "\n",
    "x,y = next(g)\n",
    "\n",
    "s0,_,_,_ = x\n",
    "qm.predict_on_batch(s0)\n",
    "#tm=LateralDiffModel(qm, 0.5, 1.0)\n",
    "tm=DirectDiffModel(qm, 0.9)\n"
   ]
  },
  {
   "cell_type": "code",
   "execution_count": null,
   "metadata": {
    "collapsed": false
   },
   "outputs": [],
   "source": [
    "tm.fit_generator(g, steps_per_epoch = 1000, epochs=5, verbose=1, workers=0)"
   ]
  },
  {
   "cell_type": "code",
   "execution_count": null,
   "metadata": {
    "collapsed": true
   },
   "outputs": [],
   "source": [
    "def sample(nx, ny, model):\n",
    "    x = np.arange(0.0, 1.0, 1.0/nx)\n",
    "    y = np.arange(0.0, 1.0, 1.0/ny)\n",
    "    xg, yg = np.meshgrid(x, y)\n",
    "    \n",
    "    xy = np.array((xg.reshape((-1,)),yg.reshape((-1,)))).T\n",
    "    #print \"s:\",s.shape,s\n",
    "    q = model.predict_on_batch(xy)\n",
    "    w = q.shape[-1]\n",
    "    #q = q - np.min(q, axis=-1, keepdims=True)\n",
    "    return xg, yg, q.reshape((nx, ny, w))\n"
   ]
  },
  {
   "cell_type": "code",
   "execution_count": null,
   "metadata": {
    "collapsed": false
   },
   "outputs": [],
   "source": [
    "from mpl_toolkits.mplot3d import Axes3D\n",
    "import matplotlib.pyplot as plt\n",
    "from matplotlib import cm\n",
    "from matplotlib.ticker import LinearLocator, FormatStrFormatter\n",
    "%matplotlib inline\n",
    "\n",
    "def plot_quiver(model):\n",
    "    x,y,q = sample(30,30,model)\n",
    "    \n",
    "    basis = np.array(\n",
    "        [\n",
    "            [1.0, 0.0],\n",
    "            [0.0, 1.0],\n",
    "            [-1.0, 0.0],\n",
    "            [0.0, -1.0]\n",
    "        ]\n",
    "    )\n",
    "\n",
    "    vec = np.dot(q, basis)\n",
    "    \n",
    "    fig, ax = plt.subplots()\n",
    "    surf = ax.quiver(x, y, u, v)\n",
    "    #ax.clabel(surf, inline=1, fontsize=15)\n",
    "    \n",
    "def plot_contour(model):\n",
    "    x,y,q = sample(30,30,model)\n",
    "    \n",
    "    plt.figure(figsize=(12,8))\n",
    "    \n",
    "    qmax = np.max(q, axis=-1)\n",
    "    \n",
    "    #ax = plt.subplot(122)\n",
    "    CS = plt.contour(x, y, qmax)\n",
    "    plt.clabel(CS, inline=1, fontsize=10)\n",
    "    \n",
    "    \n",
    "def plot_surface(model):\n",
    "    x,y,q = sample(30,30,model)\n",
    "    \n",
    "    #print q\n",
    "    \n",
    "    fig = plt.figure(figsize=(12,8))\n",
    "    ax = fig.gca(projection='3d')\n",
    "    \n",
    "    qmax = np.max(q, axis=-1)\n",
    "    \n",
    "    #ax = plt.subplot(122)\n",
    "    surf = ax.plot_surface(x, y, qmax, cmap=cm.coolwarm,\n",
    "                           linewidth=0.01, antialiased=False)\n",
    "\n",
    "    # Customize the z axis.\n",
    "    ax.set_zlim(-1.01, 2.01)\n",
    "    ax.zaxis.set_major_locator(LinearLocator(10))\n",
    "    ax.zaxis.set_major_formatter(FormatStrFormatter('%.02f'))\n",
    "\n",
    "    # Add a color bar which maps values to colors.\n",
    "    fig.colorbar(surf, shrink=0.5, aspect=5)    \n",
    "    \n",
    "    \n",
    "plot_contour(qm)\n",
    "plot_surface(qm)\n"
   ]
  },
  {
   "cell_type": "code",
   "execution_count": null,
   "metadata": {
    "collapsed": false
   },
   "outputs": [],
   "source": [
    "next(g)"
   ]
  },
  {
   "cell_type": "code",
   "execution_count": null,
   "metadata": {
    "collapsed": false
   },
   "outputs": [],
   "source": [
    "next(g.generate())"
   ]
  },
  {
   "cell_type": "code",
   "execution_count": null,
   "metadata": {
    "collapsed": false
   },
   "outputs": [],
   "source": [
    "x=np.random.random((10,))\n",
    "print x\n",
    "print x[:,None]"
   ]
  },
  {
   "cell_type": "code",
   "execution_count": null,
   "metadata": {
    "collapsed": false
   },
   "outputs": [],
   "source": [
    "from generate import GameGenerator"
   ]
  },
  {
   "cell_type": "code",
   "execution_count": null,
   "metadata": {
    "collapsed": false
   },
   "outputs": [],
   "source": [
    "qm=qmodel(2, 2)\n",
    "g = GameGenerator(qm, 10, 2, 1.0).generate()\n",
    "next(g)"
   ]
  },
  {
   "cell_type": "code",
   "execution_count": null,
   "metadata": {
    "collapsed": false
   },
   "outputs": [],
   "source": [
    "np.random.choice(4, 1, [0.5, 0.4, 0.1, 0.0])"
   ]
  },
  {
   "cell_type": "code",
   "execution_count": null,
   "metadata": {
    "collapsed": false
   },
   "outputs": [],
   "source": [
    "p = np.array([[0.5, 0.4, 0.1, 0.0]]*10)\n",
    "p"
   ]
  },
  {
   "cell_type": "code",
   "execution_count": null,
   "metadata": {
    "collapsed": false
   },
   "outputs": [],
   "source": [
    "np.random.choice(4, 1, p=p)"
   ]
  },
  {
   "cell_type": "code",
   "execution_count": null,
   "metadata": {
    "collapsed": false
   },
   "outputs": [],
   "source": [
    "choices = np.array([range(4)]*10)\n",
    "choices"
   ]
  },
  {
   "cell_type": "code",
   "execution_count": null,
   "metadata": {
    "collapsed": false
   },
   "outputs": [],
   "source": [
    "np.random.choice(range(4), 1, p=p)"
   ]
  },
  {
   "cell_type": "code",
   "execution_count": null,
   "metadata": {
    "collapsed": true
   },
   "outputs": [],
   "source": []
  }
 ],
 "metadata": {
  "kernelspec": {
   "display_name": "Python 2",
   "language": "python",
   "name": "python2"
  },
  "language_info": {
   "codemirror_mode": {
    "name": "ipython",
    "version": 2
   },
   "file_extension": ".py",
   "mimetype": "text/x-python",
   "name": "python",
   "nbconvert_exporter": "python",
   "pygments_lexer": "ipython2",
   "version": "2.7.12"
  }
 },
 "nbformat": 4,
 "nbformat_minor": 0
}
