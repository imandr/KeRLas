{
 "cells": [
  {
   "cell_type": "code",
   "execution_count": 1,
   "metadata": {
    "collapsed": false
   },
   "outputs": [
    {
     "name": "stderr",
     "output_type": "stream",
     "text": [
      "Using TensorFlow backend.\n"
     ]
    }
   ],
   "source": [
    "import numpy as np\n",
    "from game import RandomGenerator, GameGenerator, Game #, GameGenerator1\n",
    "from model import qmodel, DirectDiffModel, LateralDiffModel\n",
    "\n",
    "from mpl_toolkits.mplot3d import Axes3D\n",
    "import matplotlib.pyplot as plt\n",
    "%matplotlib inline\n"
   ]
  },
  {
   "cell_type": "code",
   "execution_count": 2,
   "metadata": {
    "collapsed": false
   },
   "outputs": [
    {
     "name": "stdout",
     "output_type": "stream",
     "text": [
      "[array([[0.8536, 0.9248],\n",
      "       [0.0072, 0.6386],\n",
      "       [0.6366, 0.7109],\n",
      "       [0.8979, 0.546 ],\n",
      "       [0.3252, 0.6826],\n",
      "       [0.8993, 0.5745],\n",
      "       [0.5881, 0.0187],\n",
      "       [0.9915, 0.73  ],\n",
      "       [0.7097, 0.8675],\n",
      "       [0.3366, 0.4109],\n",
      "       [0.8788, 0.7196],\n",
      "       [0.2788, 0.6196],\n",
      "       [0.5881, 0.6187],\n",
      "       [0.5941, 0.9544],\n",
      "       [0.5952, 0.4469],\n",
      "       [0.2252, 0.6826],\n",
      "       [0.4346, 0.9142],\n",
      "       [0.3536, 0.8248],\n",
      "       [0.8881, 0.8187],\n",
      "       [0.6734, 0.5329]]), array([1, 0, 0, 0, 0, 0, 1, 0, 0, 0, 1, 0, 1, 1, 0, 0, 0, 0, 1, 0]), array([[0.8536, 1.0248],\n",
      "       [0.1072, 0.6386],\n",
      "       [0.7366, 0.7109],\n",
      "       [0.9979, 0.546 ],\n",
      "       [0.4252, 0.6826],\n",
      "       [0.9993, 0.5745],\n",
      "       [0.5881, 0.1187],\n",
      "       [1.0915, 0.73  ],\n",
      "       [0.8097, 0.8675],\n",
      "       [0.4366, 0.4109],\n",
      "       [0.8788, 0.8196],\n",
      "       [0.3788, 0.6196],\n",
      "       [0.5881, 0.7187],\n",
      "       [0.5941, 1.0544],\n",
      "       [0.6952, 0.4469],\n",
      "       [0.3252, 0.6826],\n",
      "       [0.5346, 0.9142],\n",
      "       [0.4536, 0.8248],\n",
      "       [0.8881, 0.9187],\n",
      "       [0.7734, 0.5329]]), array([ True, False, False, False, False, False, False,  True, False,\n",
      "       False, False, False, False,  True, False, False, False, False,\n",
      "       False, False])]\n",
      "[[-0.7073]\n",
      " [ 0.    ]\n",
      " [ 0.    ]\n",
      " [ 0.    ]\n",
      " [ 0.    ]\n",
      " [ 0.    ]\n",
      " [ 0.    ]\n",
      " [-0.46  ]\n",
      " [ 0.    ]\n",
      " [ 0.    ]\n",
      " [ 0.    ]\n",
      " [ 0.    ]\n",
      " [ 0.    ]\n",
      " [-0.1882]\n",
      " [ 0.    ]\n",
      " [ 0.    ]\n",
      " [ 0.    ]\n",
      " [ 0.    ]\n",
      " [ 0.    ]\n",
      " [ 0.    ]]\n"
     ]
    }
   ],
   "source": [
    "nactions = 2\n",
    "game = Game()\n",
    "qm=qmodel(2, game.NActions)\n",
    "g=GameGenerator(game, qm, 20, 1.0)\n",
    "\n",
    "x,y = next(g)\n",
    "\n",
    "s0,_,_,_ = x\n",
    "qm.predict_on_batch(s0)\n",
    "#tm=LateralDiffModel(qm, 0.5, 1.0)\n",
    "tm=DirectDiffModel(qm, 0.9)\n"
   ]
  },
  {
   "cell_type": "code",
   "execution_count": null,
   "metadata": {
    "collapsed": false
   },
   "outputs": [],
   "source": [
    "tm.fit_generator(g, steps_per_epoch = 1000, epochs=5, verbose=1, workers=0)"
   ]
  },
  {
   "cell_type": "code",
   "execution_count": null,
   "metadata": {
    "collapsed": true
   },
   "outputs": [],
   "source": [
    "def sample(nx, ny, model):\n",
    "    x = np.arange(0.0, 1.0, 1.0/nx)\n",
    "    y = np.arange(0.0, 1.0, 1.0/ny)\n",
    "    xg, yg = np.meshgrid(x, y)\n",
    "    \n",
    "    xy = np.array((xg.reshape((-1,)),yg.reshape((-1,)))).T\n",
    "    #print \"s:\",s.shape,s\n",
    "    q = model.predict_on_batch(xy)\n",
    "    w = q.shape[-1]\n",
    "    #q = q - np.min(q, axis=-1, keepdims=True)\n",
    "    return xg, yg, q.reshape((nx, ny, w))\n"
   ]
  },
  {
   "cell_type": "code",
   "execution_count": null,
   "metadata": {
    "collapsed": false
   },
   "outputs": [],
   "source": [
    "from mpl_toolkits.mplot3d import Axes3D\n",
    "import matplotlib.pyplot as plt\n",
    "from matplotlib import cm\n",
    "from matplotlib.ticker import LinearLocator, FormatStrFormatter\n",
    "%matplotlib inline\n",
    "\n",
    "def plot_quiver(model):\n",
    "    x,y,q = sample(30,30,model)\n",
    "    \n",
    "    basis = np.array(\n",
    "        [\n",
    "            [1.0, 0.0],\n",
    "            [0.0, 1.0],\n",
    "            [-1.0, 0.0],\n",
    "            [0.0, -1.0]\n",
    "        ]\n",
    "    )\n",
    "\n",
    "    vec = np.dot(q, basis)\n",
    "    \n",
    "    fig, ax = plt.subplots()\n",
    "    surf = ax.quiver(x, y, u, v)\n",
    "    #ax.clabel(surf, inline=1, fontsize=15)\n",
    "    \n",
    "def plot_contour(model):\n",
    "    x,y,q = sample(30,30,model)\n",
    "    \n",
    "    plt.figure(figsize=(12,8))\n",
    "    \n",
    "    qmax = np.max(q, axis=-1)\n",
    "    \n",
    "    #ax = plt.subplot(122)\n",
    "    CS = plt.contour(x, y, qmax)\n",
    "    plt.clabel(CS, inline=1, fontsize=10)\n",
    "    \n",
    "    \n",
    "def plot_surface(model):\n",
    "    x,y,q = sample(30,30,model)\n",
    "    \n",
    "    #print q\n",
    "    \n",
    "    fig = plt.figure(figsize=(12,8))\n",
    "    ax = fig.gca(projection='3d')\n",
    "    \n",
    "    qmax = np.max(q, axis=-1)\n",
    "    \n",
    "    #ax = plt.subplot(122)\n",
    "    surf = ax.plot_surface(x, y, qmax, cmap=cm.coolwarm,\n",
    "                           linewidth=0.01, antialiased=False)\n",
    "\n",
    "    # Customize the z axis.\n",
    "    ax.set_zlim(-1.01, 2.01)\n",
    "    ax.zaxis.set_major_locator(LinearLocator(10))\n",
    "    ax.zaxis.set_major_formatter(FormatStrFormatter('%.02f'))\n",
    "\n",
    "    # Add a color bar which maps values to colors.\n",
    "    fig.colorbar(surf, shrink=0.5, aspect=5)    \n",
    "    \n",
    "    \n",
    "plot_contour(qm)\n",
    "plot_surface(qm)\n"
   ]
  },
  {
   "cell_type": "code",
   "execution_count": null,
   "metadata": {
    "collapsed": false
   },
   "outputs": [],
   "source": [
    "next(g)"
   ]
  },
  {
   "cell_type": "code",
   "execution_count": null,
   "metadata": {
    "collapsed": false
   },
   "outputs": [],
   "source": [
    "next(g.generate())"
   ]
  },
  {
   "cell_type": "code",
   "execution_count": null,
   "metadata": {
    "collapsed": false
   },
   "outputs": [],
   "source": [
    "x=np.random.random((10,))\n",
    "print x\n",
    "print x[:,None]"
   ]
  },
  {
   "cell_type": "code",
   "execution_count": null,
   "metadata": {
    "collapsed": false
   },
   "outputs": [],
   "source": [
    "from generate import GameGenerator"
   ]
  },
  {
   "cell_type": "code",
   "execution_count": null,
   "metadata": {
    "collapsed": false
   },
   "outputs": [],
   "source": [
    "qm=qmodel(2, 2)\n",
    "g = GameGenerator(qm, 10, 2, 1.0).generate()\n",
    "next(g)"
   ]
  },
  {
   "cell_type": "code",
   "execution_count": null,
   "metadata": {
    "collapsed": false
   },
   "outputs": [],
   "source": [
    "np.random.choice(4, 1, [0.5, 0.4, 0.1, 0.0])"
   ]
  },
  {
   "cell_type": "code",
   "execution_count": null,
   "metadata": {
    "collapsed": false
   },
   "outputs": [],
   "source": [
    "p = np.array([[0.5, 0.4, 0.1, 0.0]]*10)\n",
    "p"
   ]
  },
  {
   "cell_type": "code",
   "execution_count": null,
   "metadata": {
    "collapsed": false
   },
   "outputs": [],
   "source": [
    "np.random.choice(4, 1, p=p)"
   ]
  },
  {
   "cell_type": "code",
   "execution_count": null,
   "metadata": {
    "collapsed": false
   },
   "outputs": [],
   "source": [
    "choices = np.array([range(4)]*10)\n",
    "choices"
   ]
  },
  {
   "cell_type": "code",
   "execution_count": null,
   "metadata": {
    "collapsed": false
   },
   "outputs": [],
   "source": [
    "np.random.choice(range(4), 1, p=p)"
   ]
  },
  {
   "cell_type": "code",
   "execution_count": null,
   "metadata": {
    "collapsed": true
   },
   "outputs": [],
   "source": []
  }
 ],
 "metadata": {
  "kernelspec": {
   "display_name": "Python 2",
   "language": "python",
   "name": "python2"
  },
  "language_info": {
   "codemirror_mode": {
    "name": "ipython",
    "version": 2
   },
   "file_extension": ".py",
   "mimetype": "text/x-python",
   "name": "python",
   "nbconvert_exporter": "python",
   "pygments_lexer": "ipython2",
   "version": "2.7.16"
  }
 },
 "nbformat": 4,
 "nbformat_minor": 0
}
