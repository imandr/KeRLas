{
 "cells": [
  {
   "cell_type": "code",
   "execution_count": 8,
   "metadata": {
    "collapsed": false
   },
   "outputs": [
    {
     "name": "stdout",
     "output_type": "stream",
     "text": [
      "\u001b[33mWARN: gym.spaces.Box autodetected dtype as <type 'numpy.float32'>. Please provide explicit dtype.\u001b[0m\n",
      "\u001b[33mWARN: gym.spaces.Box autodetected dtype as <type 'numpy.float32'>. Please provide explicit dtype.\u001b[0m\n"
     ]
    }
   ],
   "source": [
    "from KeRLas import defaultQModel, Brain, TimedGymEnv, Trainer\n",
    "from KeRLas.models import DirectDiffModel, DQN\n",
    "from KeRLas.policies import BoltzmannQPolicy\n",
    "import numpy as np\n",
    "import gym, math\n",
    "from cartpole import CartPoleEnv\n",
    "from cartpole_swing import CartPoleSwingEnv\n",
    "\n",
    "#env = GymEnv(CartPoleEnv(), tlimit=300)\n",
    "env = TimedGymEnv(CartPoleEnv(), tlimit=300)\n",
    "\n",
    "space = env.observation_space\n",
    "high = np.array(\n",
    "    [\n",
    "        2.4,\n",
    "        1.0,\n",
    "        12 * 2 * math.pi / 360,\n",
    "        1.0\n",
    "    ]\n",
    ")\n",
    "env.RandomObservationSpace = gym.spaces.Box(-high, high)\n",
    "\n",
    "observation_width = env.observation_space.shape[0]\n",
    "nactions = env.action_space.n\n",
    "\n",
    "rlmodel = DirectDiffModel(defaultQModel(observation_width, nactions), 0.9)\n",
    "policy = BoltzmannQPolicy(1.0)\n",
    "brain = Brain(rlmodel, policy)\n",
    "trainer = Trainer(env, brain, 0.5, 10000)\n",
    "\n",
    "\n"
   ]
  },
  {
   "cell_type": "code",
   "execution_count": 9,
   "metadata": {
    "collapsed": false
   },
   "outputs": [
    {
     "name": "stdout",
     "output_type": "stream",
     "text": [
      "10.0 12.4\n",
      "1.0 9.8\n",
      "0.1 10.4\n",
      "0.01 9.6\n",
      "0.001 11.4\n",
      "0.0001 83.0\n",
      "10.0 9.8\n",
      "1.0 17.8\n",
      "0.1 17.6\n",
      "0.01 20.4\n",
      "0.001 12.0\n",
      "0.0001 12.4\n",
      "10.0 83.0\n",
      "1.0 12.6\n",
      "0.1 37.8\n",
      "0.01 17.6\n",
      "0.001 56.6\n",
      "0.0001 17.4\n",
      "10.0 14.4\n",
      "1.0 74.0\n"
     ]
    }
   ],
   "source": [
    "class Callback:\n",
    "    \n",
    "    def onEpisodeBegin(self, env, agents, observations):\n",
    "        env.render()\n",
    "\n",
    "    def onStep(self, env, env_done, feedback):\n",
    "        env.render()\n",
    "        \n",
    "    def onEpisodeEnd(self, env, record):\n",
    "        env.render()\n",
    "\n",
    "from KeRLas import GymPlayer\n",
    "\n",
    "p = GymPlayer(env, brain, callback=Callback())\n",
    "\n",
    "temps = [10.0, 1.0, 0.1, 0.01, 0.001, 0.0001]\n",
    "mbsize = 50\n",
    "steps_per_epoch = 100\n",
    "epochs = 20\n",
    "\n",
    "\n",
    "for i in xrange(20):\n",
    "    training_tau = temps[i%len(temps)]\n",
    "    policy.tau = training_tau\n",
    "    \n",
    "    trainer.train(mbsize, steps_per_epoch, epochs)\n",
    "    \n",
    "    nsum = 0\n",
    "    N = 5\n",
    "    policy.tau = 0.0001\n",
    "    for _ in range(N):\n",
    "        history = p.runEpisode()\n",
    "        #print len(history)\n",
    "        nsum += len(history)\n",
    "    print training_tau, float(nsum)/N"
   ]
  },
  {
   "cell_type": "code",
   "execution_count": null,
   "metadata": {
    "collapsed": false
   },
   "outputs": [],
   "source": [
    "for _ in xrange(100):\n",
    "    p.runEpisode()"
   ]
  },
  {
   "cell_type": "code",
   "execution_count": null,
   "metadata": {
    "collapsed": true
   },
   "outputs": [],
   "source": [
    "def fcn(x,y,z=0, *params, **args):\n",
    "    pass"
   ]
  },
  {
   "cell_type": "code",
   "execution_count": null,
   "metadata": {
    "collapsed": true
   },
   "outputs": [],
   "source": []
  }
 ],
 "metadata": {
  "kernelspec": {
   "display_name": "Python 2",
   "language": "python",
   "name": "python2"
  },
  "language_info": {
   "codemirror_mode": {
    "name": "ipython",
    "version": 2
   },
   "file_extension": ".py",
   "mimetype": "text/x-python",
   "name": "python",
   "nbconvert_exporter": "python",
   "pygments_lexer": "ipython2",
   "version": "2.7.16"
  }
 },
 "nbformat": 4,
 "nbformat_minor": 0
}
