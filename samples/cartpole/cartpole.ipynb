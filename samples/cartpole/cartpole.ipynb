{
 "cells": [
  {
   "cell_type": "code",
   "execution_count": 2,
   "metadata": {
    "collapsed": false
   },
   "outputs": [
    {
     "name": "stdout",
     "output_type": "stream",
     "text": [
      "\u001b[33mWARN: gym.spaces.Box autodetected dtype as <type 'numpy.float32'>. Please provide explicit dtype.\u001b[0m\n",
      "\u001b[33mWARN: gym.spaces.Box autodetected dtype as <type 'numpy.float32'>. Please provide explicit dtype.\u001b[0m\n"
     ]
    }
   ],
   "source": [
    "from KeRLas import defaultQModel, Brain, TimedGymEnv\n",
    "from KeRLas.models import DirectDiffModel, NaiveQModel, LateralDiffModel\n",
    "from KeRLas.policies import BoltzmannQPolicy\n",
    "import numpy as np\n",
    "import gym, math\n",
    "from cartpole import CartPoleEnv\n",
    "from cartpole_swing import CartPoleSwingEnv\n",
    "\n",
    "#env = GymEnv(CartPoleEnv(), tlimit=300)\n",
    "env = TimedGymEnv(CartPoleSwingEnv(), tlimit=300)\n",
    "\n",
    "space = env.observation_space\n",
    "high = np.array(\n",
    "    [\n",
    "        9.0,\n",
    "        1.0,\n",
    "        math.pi,\n",
    "        2.0\n",
    "    ]\n",
    ")\n",
    "env.RandomObservationSpace = gym.spaces.Box(-high, high)\n",
    "\n",
    "observation_width = env.observation_space.shape[0]\n",
    "nactions = env.action_space.n\n",
    "\n",
    "rlmodel = DirectDiffModel(defaultQModel(observation_width, nactions), 0.9)\n",
    "policy = BoltzmannQPolicy(1.0)\n",
    "brain = Brain(env, rlmodel, policy, 10000, 0.5)\n",
    "\n",
    "mbsize = 50\n",
    "#for i in range(10):\n",
    "#    next(brain.Memory.generate_samples(20))\n",
    "_ = next(brain.trainig_data_generator(mbsize))\n",
    "\n"
   ]
  },
  {
   "cell_type": "code",
   "execution_count": null,
   "metadata": {
    "collapsed": false
   },
   "outputs": [
    {
     "name": "stdout",
     "output_type": "stream",
     "text": [
      "10.0 74.0\n",
      "1.0 183.2\n",
      "0.1 132.0\n",
      "0.01 150.4\n"
     ]
    }
   ],
   "source": [
    "class Callback:\n",
    "    \n",
    "    def onEpisodeBegin(self, env, agents, observations):\n",
    "        env.render()\n",
    "\n",
    "    def onStep(self, env, env_done, feedback):\n",
    "        env.render()\n",
    "        \n",
    "    def onEpisodeEnd(self, env, record):\n",
    "        env.render()\n",
    "\n",
    "from KeRLas import GymPlayer\n",
    "\n",
    "p = GymPlayer(env, brain, callback=Callback())\n",
    "\n",
    "temps = [10.0, 1.0, 0.1, 0.01, 0.001, 0.0001]\n",
    "\n",
    "for i in xrange(20):\n",
    "    training_tau = temps[i%len(temps)]\n",
    "    policy.tau = training_tau\n",
    "    brain.training_model().fit_generator(\n",
    "        brain.trainig_data_generator(mbsize),\n",
    "        steps_per_epoch = 100, epochs = 10, verbose = False, workers = 0\n",
    "    )\n",
    "    nsum = 0\n",
    "    N = 5\n",
    "    policy.tau = 0.0001\n",
    "    for _ in range(N):\n",
    "        history = p.runEpisode()\n",
    "        #print len(history)\n",
    "        nsum += len(history)\n",
    "    print training_tau, float(nsum)/N"
   ]
  },
  {
   "cell_type": "code",
   "execution_count": null,
   "metadata": {
    "collapsed": false
   },
   "outputs": [],
   "source": [
    "for _ in xrange(100):\n",
    "    p.runEpisode()"
   ]
  },
  {
   "cell_type": "code",
   "execution_count": null,
   "metadata": {
    "collapsed": true
   },
   "outputs": [],
   "source": []
  }
 ],
 "metadata": {
  "kernelspec": {
   "display_name": "Python 2",
   "language": "python",
   "name": "python2"
  },
  "language_info": {
   "codemirror_mode": {
    "name": "ipython",
    "version": 2
   },
   "file_extension": ".py",
   "mimetype": "text/x-python",
   "name": "python",
   "nbconvert_exporter": "python",
   "pygments_lexer": "ipython2",
   "version": "2.7.16"
  }
 },
 "nbformat": 4,
 "nbformat_minor": 0
}
