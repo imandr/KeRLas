{
 "cells": [
  {
   "cell_type": "code",
   "execution_count": 1,
   "metadata": {
    "collapsed": false
   },
   "outputs": [
    {
     "name": "stderr",
     "output_type": "stream",
     "text": [
      "Using TensorFlow backend.\n"
     ]
    },
    {
     "name": "stdout",
     "output_type": "stream",
     "text": [
      "\u001b[33mWARN: gym.spaces.Box autodetected dtype as <type 'numpy.float32'>. Please provide explicit dtype.\u001b[0m\n",
      "\u001b[33mWARN: gym.spaces.Box autodetected dtype as <type 'numpy.float32'>. Please provide explicit dtype.\u001b[0m\n"
     ]
    }
   ],
   "source": [
    "from KeRLas import Brain, TimedGymEnv, Trainer\n",
    "from KeRLas.models import defaultQModel\n",
    "from KeRLas.models import DirectDiffModel, NaiveQModel, LateralDiffModel\n",
    "from KeRLas.policies import BoltzmannQPolicy\n",
    "import numpy as np\n",
    "import gym, math\n",
    "from cartpole import CartPoleEnv\n",
    "from cartpole_swing import CartPoleSwingEnv\n",
    "\n",
    "#env = GymEnv(CartPoleEnv(), tlimit=300)\n",
    "env = TimedGymEnv(CartPoleSwingEnv(), tlimit=300)\n",
    "\n",
    "space = env.observation_space\n",
    "high = np.array(\n",
    "    [\n",
    "        9.0,\n",
    "        1.0,\n",
    "        math.pi,\n",
    "        2.0\n",
    "    ]\n",
    ")\n",
    "env.RandomObservationSpace = gym.spaces.Box(-high, high)\n",
    "\n",
    "observation_width = env.observation_space.shape[0]\n",
    "nactions = env.action_space.n\n",
    "\n",
<<<<<<< HEAD
    "rlmodel = DirectDiffModel(defaultQModel(observation_width, nactions), 0.9)\n",
    "policy = BoltzmannQPolicy(1.0)\n",
    "brain = Brain(env, rlmodel, policy, 10000, 0.9)\n",
=======
    "rlmodel = LateralDiffModel(defaultQModel(observation_width, nactions), 0.9)\n",
    "policy = BoltzmannQPolicy(0.0001)\n",
    "brain = Brain(rlmodel, policy, training_policies=map(BoltzmannQPolicy, [10.0, 1.0, 0.1, 0.01, 0.001]))\n",
>>>>>>> step-back
    "\n",
    "mbsize = 50\n",
    "#for i in range(10):\n",
    "#    next(brain.Memory.generate_samples(20))\n",
    "#_ = next(brain.trainig_data_generator(mbsize))\n",
    "\n"
   ]
  },
  {
   "cell_type": "code",
   "execution_count": null,
   "metadata": {
    "collapsed": false
   },
   "outputs": [
    {
     "name": "stdout",
     "output_type": "stream",
     "text": [
<<<<<<< HEAD
      "10.0 124.2\n",
      "1.0 300.0\n",
      "0.1 300.0\n",
      "0.001 98.4\n",
      "10.0 52.2\n",
      "1.0 111.8\n",
      "0.1 52.4\n",
      "0.001 99.0\n",
      "10.0 114.4\n",
      "1.0 108.8\n",
      "0.1 300.0\n",
      "0.001 112.0\n",
      "10.0 98.0\n",
      "1.0 72.0\n",
      "0.1 115.2\n",
      "0.001 189.2\n",
      "10.0 280.0\n",
      "1.0 117.6\n",
      "0.1 211.2\n",
      "0.001 215.8\n"
=======
      "12.4 0.0022033998\n",
      "36.4 0.017816909\n",
      "33.4 0.013669387\n",
      "21.6 0.013696946\n",
      "8.2 0.0033747768\n",
      "21.4 0.016248548\n"
>>>>>>> step-back
     ]
    }
   ],
   "source": [
    "class Callback:\n",
    "    \n",
    "    def onEpisodeBegin(self, env, agents, observations):\n",
    "        env.render()\n",
    "\n",
    "    def onStep(self, env, env_done, feedback):\n",
    "        env.render()\n",
    "        \n",
    "    def onEpisodeEnd(self, env, record):\n",
    "        env.render()\n",
    "\n",
    "trainer = Trainer(env, brain, 0.5, 10000)   \n",
    "\n",
    "from KeRLas import GymPlayer\n",
    "p = GymPlayer(env, brain, callback=Callback())\n",
    "\n",
<<<<<<< HEAD
    "temps = [10.0, 1.0, 0.1, 0.001]\n",
    "\n",
    "for i in xrange(20):\n",
    "    training_tau = temps[i%len(temps)]\n",
    "    policy.tau = training_tau\n",
    "    brain.training_model().fit_generator(\n",
    "        brain.trainig_data_generator(mbsize),\n",
    "        steps_per_epoch = 1000, epochs = 10, verbose = False, workers = 0\n",
    "    )\n",
=======
    "#temps = [10.0, 1.0, 0.1, 0.01, 0.001]\n",
    "\n",
    "for i in xrange(20):\n",
    "    #training_tau = temps[i%len(temps)]\n",
    "    #policy.tau = training_tau\n",
    "    #brain.training_model().fit_generator(\n",
    "    #    brain.trainig_data_generator(mbsize),\n",
    "    #    steps_per_epoch = 1000, epochs = 10, verbose = True, workers = 0\n",
    "    #)\n",
    "    \n",
    "    metrics = trainer.train(mbsize, 1000, 10)\n",
    "    \n",
>>>>>>> step-back
    "    nsum = 0\n",
    "    N = 5\n",
    "    #policy.tau = 0.0001\n",
    "    with brain.training(False):\n",
    "        for _ in range(N):\n",
    "            history = p.runEpisode()\n",
    "            #print len(history)\n",
    "            nsum += len(history)\n",
    "        print float(nsum)/N, metrics"
   ]
  },
  {
   "cell_type": "code",
   "execution_count": null,
   "metadata": {
    "collapsed": false
   },
   "outputs": [],
   "source": [
    "for _ in xrange(100):\n",
    "    p.runEpisode()"
   ]
  },
  {
   "cell_type": "code",
   "execution_count": 5,
   "metadata": {
    "collapsed": true
   },
   "outputs": [],
   "source": [
    "def fcn(x,y,z=0, *params, **args):\n",
    "    pass"
   ]
  },
  {
   "cell_type": "code",
   "execution_count": null,
   "metadata": {
    "collapsed": true
   },
   "outputs": [],
   "source": []
  }
 ],
 "metadata": {
  "kernelspec": {
   "display_name": "Python 2",
   "language": "python",
   "name": "python2"
  },
  "language_info": {
   "codemirror_mode": {
    "name": "ipython",
    "version": 2
   },
   "file_extension": ".py",
   "mimetype": "text/x-python",
   "name": "python",
   "nbconvert_exporter": "python",
   "pygments_lexer": "ipython2",
   "version": "2.7.16"
  }
 },
 "nbformat": 4,
 "nbformat_minor": 0
}
