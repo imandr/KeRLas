{
 "cells": [
  {
   "cell_type": "code",
   "execution_count": 1,
   "metadata": {},
   "outputs": [
    {
     "name": "stderr",
     "output_type": "stream",
     "text": [
      "Using TensorFlow backend.\n"
     ]
    },
    {
     "name": "stdout",
     "output_type": "stream",
     "text": [
      "Couldn't import dot_parser, loading of dot files will not be possible.\n",
      "\u001b[33mWARN: gym.spaces.Box autodetected dtype as <type 'numpy.float32'>. Please provide explicit dtype.\u001b[0m\n",
      "\u001b[33mWARN: gym.spaces.Box autodetected dtype as <type 'numpy.float32'>. Please provide explicit dtype.\u001b[0m\n"
     ]
    }
   ],
   "source": [
    "from KeRLas import Brain, TimedGymEnv, Trainer\n",
    "from KeRLas.models import defaultQModel\n",
    "from KeRLas.models import DirectDiffModel, NaiveQModel, LateralDiffModel, DQN\n",
    "from KeRLas.policies import BoltzmannQPolicy\n",
    "import numpy as np\n",
    "import gym, math\n",
    "from cartpole import CartPoleEnv\n",
    "\n",
    "#env = GymEnv(CartPoleEnv(), tlimit=300)\n",
    "env = TimedGymEnv(CartPoleEnv(), tlimit=300)\n",
    "\n",
    "space = env.observation_space\n",
    "high = np.array(\n",
    "    [\n",
    "        2.4,\n",
    "        1.0,\n",
    "        12 * 2 * math.pi / 360,\n",
    "        1.0\n",
    "    ]\n",
    ")\n",
    "env.RandomObservationSpace = gym.spaces.Box(-high, high)\n",
    "\n",
    "observation_width = env.observation_space.shape[0]\n",
    "nactions = env.action_space.n\n",
    "\n",
    "\n",
    "#for i in range(10):\n",
    "#    next(brain.Memory.generate_samples(20))\n",
    "#_ = next(brain.trainig_data_generator(mbsize))\n",
    "\n"
   ]
  },
  {
   "cell_type": "code",
   "execution_count": 6,
   "metadata": {},
   "outputs": [],
   "source": [
    "rlmodel = DirectDiffModel(defaultQModel(observation_width, nactions), 0.9)\n",
    "policy = BoltzmannQPolicy(0.0001)\n",
    "brain = Brain(rlmodel, policy, training_policies=map(BoltzmannQPolicy, [10.0, 1.0, 0.1, 0.01, 0.001]))\n"
   ]
  },
  {
   "cell_type": "code",
   "execution_count": 7,
   "metadata": {},
   "outputs": [
    {
     "name": "stdout",
     "output_type": "stream",
     "text": [
      "36.8 0.08482725\n",
      "9.8 0.050808106\n",
      "22.6 0.026157703\n",
      "47.4 0.050469443\n",
      "69.0 0.048904303\n",
      "90.8 0.088459276\n",
      "244.4 0.06096409\n",
      "300.0 0.09482729\n",
      "256.0 0.10696578\n",
      "300.0 0.09076548\n",
      "300.0 0.13666454\n",
      "291.2 0.09179892\n",
      "255.8 0.11217169\n",
      "240.8 0.07728295\n",
      "233.4 0.06326427\n",
      "261.6 0.12663162\n",
      "191.4 0.06528723\n",
      "228.6 0.032341875\n",
      "156.0 0.06320083\n",
      "230.6 0.04938815\n"
     ]
    }
   ],
   "source": [
    "class Callback:\n",
    "    \n",
    "    def onEpisodeBegin(self, env, agents, observations):\n",
    "        env.render()\n",
    "\n",
    "    def onStep(self, env, env_done, feedback):\n",
    "        env.render()\n",
    "        \n",
    "    def onEpisodeEnd(self, env, record, info):\n",
    "        env.render()\n",
    "\n",
    "trainer = Trainer(env, brain, 0.00, 10000)   \n",
    "\n",
    "from KeRLas import GymPlayer\n",
    "p = GymPlayer(env, brain, callback=Callback())\n",
    "\n",
    "#temps = [10.0, 1.0, 0.1, 0.01, 0.001]\n",
    "\n",
    "mbsize = 50\n",
    "\n",
    "for i in xrange(20):\n",
    "    metrics = trainer.train(mbsize, 1000, 10)\n",
    "    \n",
    "    nsum = 0\n",
    "    N = 5\n",
    "    with brain.training(False):\n",
    "        for _ in range(N):\n",
    "            history = p.runEpisode()\n",
    "            #print len(history)\n",
    "            nsum += len(history)\n",
    "        print float(nsum)/N, metrics"
   ]
  },
  {
   "cell_type": "code",
   "execution_count": null,
   "metadata": {
    "collapsed": true
   },
   "outputs": [],
   "source": []
  }
 ],
 "metadata": {
  "kernelspec": {
   "display_name": "Python 3",
   "language": "python",
   "name": "python3"
  },
  "language_info": {
   "codemirror_mode": {
    "name": "ipython",
    "version": 3
   },
   "file_extension": ".py",
   "mimetype": "text/x-python",
   "name": "python",
   "nbconvert_exporter": "python",
   "pygments_lexer": "ipython3",
   "version": "3.7.3"
  }
 },
 "nbformat": 4,
 "nbformat_minor": 1
}
