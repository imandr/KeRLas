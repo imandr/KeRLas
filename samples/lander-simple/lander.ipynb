{
 "cells": [
  {
   "cell_type": "code",
   "execution_count": 1,
   "metadata": {
    "collapsed": false
   },
   "outputs": [
    {
     "name": "stderr",
     "output_type": "stream",
     "text": [
      "Using TensorFlow backend.\n"
     ]
    },
    {
     "name": "stdout",
     "output_type": "stream",
     "text": [
      "\u001b[33mWARN: gym.spaces.Box autodetected dtype as <type 'numpy.float32'>. Please provide explicit dtype.\u001b[0m\n"
     ]
    }
   ],
   "source": [
    "from KeRLas import Brain, TimedGymEnv, Trainer\n",
    "from KeRLas.models import defaultQModel\n",
    "from KeRLas.models import DirectDiffModel, NaiveQModel, LateralDiffModel, DQN\n",
    "from KeRLas.policies import BoltzmannQPolicy\n",
    "import numpy as np\n",
    "import gym, math\n",
    "from simple_lander import SimpleLander\n",
    "\n",
    "#env = GymEnv(CartPoleEnv(), tlimit=300)\n",
    "env = TimedGymEnv(SimpleLander(), tlimit=500)\n",
    "\n",
    "observation_width = env.observation_space.shape[0]\n",
    "nactions = env.action_space.n\n",
    "\n",
    "\n",
    "#for i in range(10):\n",
    "#    next(brain.Memory.generate_samples(20))\n",
    "#_ = next(brain.trainig_data_generator(mbsize))\n",
    "\n"
   ]
  },
  {
   "cell_type": "code",
   "execution_count": 6,
   "metadata": {
    "collapsed": false
   },
   "outputs": [],
   "source": [
    "rlmodel = LateralDiffModel(defaultQModel(observation_width, nactions), 0.99, 0.5)\n",
    "policy = BoltzmannQPolicy(0.0001)\n",
    "brain = Brain(rlmodel, policy, training_policies=map(BoltzmannQPolicy, [100.0, 10.0, 1.0, 0.01, 0.001]))\n"
   ]
  },
  {
   "cell_type": "code",
   "execution_count": 7,
   "metadata": {
    "collapsed": false
   },
   "outputs": [],
   "source": [
    "class Callback:\n",
    "    \n",
    "    def onEpisodeBegin(self, env, agents, observations):\n",
    "        env.render()\n",
    "\n",
    "    def onStep(self, env, env_done, feedback):\n",
    "        env.render()\n",
    "        \n",
    "    def onEpisodeEnd(self, env, record, info):\n",
    "        env.render()\n",
    "        #print len(record), info\n",
    "        \n",
    "        #for (s0,a,s1,r,f), qv in zip(record, info[\"qvectors\"]):\n",
    "        #    print s0,a,s1,r,f, qv\n",
    "        \n",
    "\n",
    "trainer = Trainer(env, brain, 0.00, 10000)   \n",
    "\n",
    "from KeRLas import GymPlayer\n",
    "p = GymPlayer(env, brain, callback=Callback())\n",
    "\n",
    "\n"
   ]
  },
  {
   "cell_type": "code",
   "execution_count": null,
   "metadata": {
    "collapsed": false
   },
   "outputs": [],
   "source": [
    "mbsize = 50\n",
    "for i in xrange(500):\n",
    "    metrics = trainer.train(mbsize, 1000, 10)\n",
    "    \n",
    "    nsum = 0\n",
    "    N = 5\n",
    "    reward_sum = 0.0\n",
    "    with brain.training(False):\n",
    "        for _ in range(N):\n",
    "            history = p.runEpisode()\n",
    "            reward = sum([r for _,_,_,r,_ in history])\n",
    "            #print reward, history[-1][3]\n",
    "            reward_sum += reward\n",
    "            #print len(history)\n",
    "            nsum += len(history)\n",
    "        print float(nsum)/N, reward_sum/N, metrics"
   ]
  },
  {
   "cell_type": "code",
   "execution_count": null,
   "metadata": {
    "collapsed": true
   },
   "outputs": [],
   "source": []
  }
 ],
 "metadata": {
  "kernelspec": {
   "display_name": "Python 2",
   "language": "python",
   "name": "python2"
  },
  "language_info": {
   "codemirror_mode": {
    "name": "ipython",
    "version": 2
   },
   "file_extension": ".py",
   "mimetype": "text/x-python",
   "name": "python",
   "nbconvert_exporter": "python",
   "pygments_lexer": "ipython2",
   "version": "2.7.16"
  }
 },
 "nbformat": 4,
 "nbformat_minor": 0
}
